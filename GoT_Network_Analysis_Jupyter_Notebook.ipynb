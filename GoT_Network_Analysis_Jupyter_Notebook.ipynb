{
 "cells": [
  {
   "cell_type": "markdown",
   "metadata": {},
   "source": [
    "# Who is the most important character in Game Of Thrones?\n"
   ]
  },
  {
   "cell_type": "markdown",
   "metadata": {},
   "source": [
    "If you haven't heard of Game of Thrones, then you must be really good at hiding. Game of Thrones is the hugely popular television series by HBO based on the (also) hugely popular book series A Song of Ice and Fire by George R.R. Martin. In this notebook, I will analyze the co-occurrence network of the characters in the Game of Thrones books in order to find out the most important character in the series."
   ]
  },
  {
   "cell_type": "markdown",
   "metadata": {},
   "source": [
    "## 1. Methodology & Dataset"
   ]
  },
  {
   "cell_type": "markdown",
   "metadata": {},
   "source": [
    "We will use 3 different metrics to measure the importance of each character from all 5 books: degree centrality, betweenness centrality, and page rank. We will use Python's <code>networkx</code>, a network analysis library. We will also need pandas (one of the core Python's libraries) The dataset, consisting of 5 .csv files, is provided by DataCamp (if you need the dataset, go to my GitHub). Here is how the original data looks like:"
   ]
  },
  {
   "cell_type": "code",
   "execution_count": 76,
   "metadata": {},
   "outputs": [
    {
     "data": {
      "text/html": [
       "<div>\n",
       "<style scoped>\n",
       "    .dataframe tbody tr th:only-of-type {\n",
       "        vertical-align: middle;\n",
       "    }\n",
       "\n",
       "    .dataframe tbody tr th {\n",
       "        vertical-align: top;\n",
       "    }\n",
       "\n",
       "    .dataframe thead th {\n",
       "        text-align: right;\n",
       "    }\n",
       "</style>\n",
       "<table border=\"1\" class=\"dataframe\">\n",
       "  <thead>\n",
       "    <tr style=\"text-align: right;\">\n",
       "      <th></th>\n",
       "      <th>Source</th>\n",
       "      <th>Target</th>\n",
       "      <th>Type</th>\n",
       "      <th>weight</th>\n",
       "      <th>book</th>\n",
       "    </tr>\n",
       "  </thead>\n",
       "  <tbody>\n",
       "    <tr>\n",
       "      <td>0</td>\n",
       "      <td>Addam-Marbrand</td>\n",
       "      <td>Jaime-Lannister</td>\n",
       "      <td>Undirected</td>\n",
       "      <td>3</td>\n",
       "      <td>1</td>\n",
       "    </tr>\n",
       "    <tr>\n",
       "      <td>1</td>\n",
       "      <td>Addam-Marbrand</td>\n",
       "      <td>Tywin-Lannister</td>\n",
       "      <td>Undirected</td>\n",
       "      <td>6</td>\n",
       "      <td>1</td>\n",
       "    </tr>\n",
       "    <tr>\n",
       "      <td>2</td>\n",
       "      <td>Aegon-I-Targaryen</td>\n",
       "      <td>Daenerys-Targaryen</td>\n",
       "      <td>Undirected</td>\n",
       "      <td>5</td>\n",
       "      <td>1</td>\n",
       "    </tr>\n",
       "    <tr>\n",
       "      <td>3</td>\n",
       "      <td>Aegon-I-Targaryen</td>\n",
       "      <td>Eddard-Stark</td>\n",
       "      <td>Undirected</td>\n",
       "      <td>4</td>\n",
       "      <td>1</td>\n",
       "    </tr>\n",
       "    <tr>\n",
       "      <td>4</td>\n",
       "      <td>Aemon-Targaryen-(Maester-Aemon)</td>\n",
       "      <td>Alliser-Thorne</td>\n",
       "      <td>Undirected</td>\n",
       "      <td>4</td>\n",
       "      <td>1</td>\n",
       "    </tr>\n",
       "  </tbody>\n",
       "</table>\n",
       "</div>"
      ],
      "text/plain": [
       "                            Source              Target        Type  weight  \\\n",
       "0                   Addam-Marbrand     Jaime-Lannister  Undirected       3   \n",
       "1                   Addam-Marbrand     Tywin-Lannister  Undirected       6   \n",
       "2                Aegon-I-Targaryen  Daenerys-Targaryen  Undirected       5   \n",
       "3                Aegon-I-Targaryen        Eddard-Stark  Undirected       4   \n",
       "4  Aemon-Targaryen-(Maester-Aemon)      Alliser-Thorne  Undirected       4   \n",
       "\n",
       "   book  \n",
       "0     1  \n",
       "1     1  \n",
       "2     1  \n",
       "3     1  \n",
       "4     1  "
      ]
     },
     "execution_count": 76,
     "metadata": {},
     "output_type": "execute_result"
    }
   ],
   "source": [
    "# Importing modules\n",
    "import pandas as pd\n",
    "# Reading in datasets/book1.csv\n",
    "book1 = pd.read_csv(\"datasets/book1.csv\")\n",
    "# Printing out the head of the dataset\n",
    "book1.head()"
   ]
  },
  {
   "cell_type": "markdown",
   "metadata": {},
   "source": [
    "## 2. Create The Network Of Characters"
   ]
  },
  {
   "cell_type": "markdown",
   "metadata": {},
   "source": [
    "Source and target are the two nodes that are linked by an edge. A network can have directed or undirected edges and in this network all the edges are undirected. The weight attribute of every edge tells us the number of interactions that the characters have had over the book.\n",
    "\n",
    "**Step 1: Load the data as a pandas DataFrame**"
   ]
  },
  {
   "cell_type": "code",
   "execution_count": 77,
   "metadata": {},
   "outputs": [],
   "source": [
    "book1 = pd.read_csv(\"datasets/book1.csv\")   #we will load the data for the other 4 books below"
   ]
  },
  {
   "cell_type": "markdown",
   "metadata": {},
   "source": [
    "**Step 2: Create a network of characters using a graph object**"
   ]
  },
  {
   "cell_type": "code",
   "execution_count": 78,
   "metadata": {},
   "outputs": [],
   "source": [
    "import networkx as nx\n",
    "# Creating an empty graph object\n",
    "G_book1 = nx.Graph()"
   ]
  },
  {
   "cell_type": "markdown",
   "metadata": {},
   "source": [
    "**Step 3: Populate the network**"
   ]
  },
  {
   "cell_type": "code",
   "execution_count": 79,
   "metadata": {},
   "outputs": [],
   "source": [
    "# Iterating through the DataFrame to add edges\n",
    "for _, edge in book1.iterrows():\n",
    "    G_book1.add_edge(edge['Source'], edge['Target'], weight=edge['weight'])\n",
    "# Creating a list of networks for all the books\n",
    "books = [G_book1]\n",
    "book_fnames = ['datasets/book2.csv', 'datasets/book3.csv', 'datasets/book4.csv', 'datasets/book5.csv']\n",
    "for book_fname in book_fnames:\n",
    "    book = pd.read_csv(book_fname)\n",
    "    G_book = nx.Graph()\n",
    "    for _, edge in book.iterrows():\n",
    "        G_book.add_edge(edge['Source'], edge['Target'], weight=edge['weight'])\n",
    "    books.append(G_book)"
   ]
  },
  {
   "cell_type": "markdown",
   "metadata": {},
   "source": [
    "**Step 4: We now have a network of characters that looks like this**"
   ]
  },
  {
   "cell_type": "code",
   "execution_count": 80,
   "metadata": {},
   "outputs": [
    {
     "data": {
      "image/png": "[encoded data removed]",
      "text/plain": [
       "<Figure size 432x288 with 1 Axes>"
      ]
     },
     "metadata": {},
     "output_type": "display_data"
    }
   ],
   "source": [
    "nx.draw(G_book)   # Note: we don't need fancy visualizations, this is just an example. \n",
    "                  # We will answer the main question mainly 'mathematically'"
   ]
  },
  {
   "cell_type": "markdown",
   "metadata": {},
   "source": [
    "## 3. Analyse The Network Using Degree Centrality"
   ]
  },
  {
   "cell_type": "markdown",
   "metadata": {},
   "source": [
    "In simple words, degree centrality is one of ways to measure how much important a node in the network (a GOT character) is. It measures the number of neighbors of a node in the network. A node's degree is simply a count of how many social connections (i.e., edges) it has. The degree centrality for a node is simply its degree. A node with 10 social connections would have a degree centrality of 10."
   ]
  },
  {
   "cell_type": "code",
   "execution_count": 81,
   "metadata": {},
   "outputs": [
    {
     "name": "stdout",
     "output_type": "stream",
     "text": [
      "\n",
      "\n",
      "TOP 5 characters in ALL BOOKS (acc. Degree Centrality)\n",
      "[('Tyrion-Lannister', 0.8477708979416633), ('Cersei-Lannister', 0.7621726185337769), ('Jon-Snow', 0.5673126932919415), ('Joffrey-Baratheon', 0.5090237791235889), ('Robb-Stark', 0.48608261336857395)]\n"
     ]
    }
   ],
   "source": [
    "# Calculating the degree centrality of book 1-5\n",
    "deg_cen_book1 = nx.degree_centrality(books[0])\n",
    "deg_cen_book2 = nx.degree_centrality(books[1])\n",
    "deg_cen_book3 = nx.degree_centrality(books[2])\n",
    "deg_cen_book4 = nx.degree_centrality(books[3])\n",
    "deg_cen_book5 = nx.degree_centrality(books[4])\n",
    "# Sorting the dictionaries according to their degree centrality and storing the top 10\n",
    "sorted_deg_cen_book1 = sorted(deg_cen_book1.items(), key=lambda x:x[1], reverse = True)[0:10]\n",
    "sorted_deg_cen_book2 = sorted(deg_cen_book2.items(), key=lambda x:x[1], reverse = True)[0:10]\n",
    "sorted_deg_cen_book3 = sorted(deg_cen_book3.items(), key=lambda x:x[1], reverse = True)[0:10]\n",
    "sorted_deg_cen_book4 = sorted(deg_cen_book4.items(), key=lambda x:x[1], reverse = True)[0:10]\n",
    "sorted_deg_cen_book5 = sorted(deg_cen_book5.items(), key=lambda x:x[1], reverse = True)[0:10]\n",
    "\n",
    "#iterate thought the results (dictionaries) to make one aggregate list of all books\n",
    "top_characters_all_books = {}\n",
    "listoflists = [sorted_deg_cen_book1,sorted_deg_cen_book2,sorted_deg_cen_book3,sorted_deg_cen_book4,sorted_deg_cen_book5]\n",
    "\n",
    "for book in listoflists :\n",
    "    for character,value in book :\n",
    "        if character in top_characters_all_books :\n",
    "            top_characters_all_books[character] += value\n",
    "        else :\n",
    "            top_characters_all_books[character] = value\n",
    "            \n",
    "top_five_degree_centrality = sorted(top_characters_all_books.items(), key=lambda x:x[1], reverse = True)[0:10]\n",
    "print(\"\\n\")\n",
    "print(\"TOP 5 characters in ALL BOOKS (acc. Degree Centrality)\")\n",
    "print(top_five_degree_centrality[0:5])"
   ]
  },
  {
   "cell_type": "markdown",
   "metadata": {},
   "source": [
    "## The most important GoT character accoding to degree centrality:"
   ]
  },
  {
   "cell_type": "markdown",
   "metadata": {},
   "source": [
    "                                                      Tyrion Lannister"
   ]
  },
  {
   "cell_type": "markdown",
   "metadata": {},
   "source": [
    "## 4. Analyse The Network Using Betweenness Centrality"
   ]
  },
  {
   "cell_type": "markdown",
   "metadata": {},
   "source": [
    "In simple words, betweenness centrality measures to what extend a particular node holds the network together. It captures how much a given node is in-between others. Betweenness centrality measures how important a node is to the shortest paths through the network. It is a widely used measure that captures a person's role in allowing information to pass from one part of the network to the other. I believe these nodes are called *articulation points* (if you take them out the graph becomes disconnected)"
   ]
  },
  {
   "cell_type": "code",
   "execution_count": 82,
   "metadata": {},
   "outputs": [
    {
     "name": "stdout",
     "output_type": "stream",
     "text": [
      "\n",
      "\n",
      "TOP 5 characters in ALL BOOKS (acc. Betweenness Centrality)\n",
      "[('Stannis-Baratheon', 0.9576674315458988), ('Jon-Snow', 0.8146984707686813), ('Tyrion-Lannister', 0.8004024251365659), ('Robert-Baratheon', 0.7113784137288915), ('Daenerys-Targaryen', 0.5187069305121602)]\n"
     ]
    }
   ],
   "source": [
    "# Calculating the betweenness centrality of book 1-5\n",
    "bet_cen_book1 = nx.betweenness_centrality(books[0])\n",
    "bet_cen_book2 = nx.betweenness_centrality(books[1])\n",
    "bet_cen_book3 = nx.betweenness_centrality(books[2])\n",
    "bet_cen_book4 = nx.betweenness_centrality(books[3])\n",
    "bet_cen_book5 = nx.betweenness_centrality(books[4])\n",
    "# Sorting the dictionaries according to their betweenness centrality and storing the top 10\n",
    "sorted_bet_cen_book1 = sorted(bet_cen_book1.items(), key=lambda x:x[1], reverse = True)[0:10]\n",
    "sorted_bet_cen_book2 = sorted(bet_cen_book2.items(), key=lambda x:x[1], reverse = True)[0:10]\n",
    "sorted_bet_cen_book3 = sorted(bet_cen_book3.items(), key=lambda x:x[1], reverse = True)[0:10]\n",
    "sorted_bet_cen_book4 = sorted(bet_cen_book4.items(), key=lambda x:x[1], reverse = True)[0:10]\n",
    "sorted_bet_cen_book5 = sorted(bet_cen_book5.items(), key=lambda x:x[1], reverse = True)[0:10]\n",
    "\n",
    "#iterate thought the results (dictionaries) to make one aggregate list of all books\n",
    "top_characters_all_books2 = {}\n",
    "listoflists2 = [sorted_bet_cen_book1,sorted_bet_cen_book2,sorted_bet_cen_book3,sorted_bet_cen_book4,sorted_bet_cen_book5]\n",
    "\n",
    "for book in listoflists2 :\n",
    "    for character,value in book :\n",
    "        if character in top_characters_all_books2 :\n",
    "            top_characters_all_books2[character] += value\n",
    "        else :\n",
    "            top_characters_all_books2[character] = value\n",
    "            \n",
    "top_five_betweenness_centrality = sorted(top_characters_all_books2.items(), key=lambda x:x[1], reverse = True)[0:10]\n",
    "print(\"\\n\")\n",
    "print(\"TOP 5 characters in ALL BOOKS (acc. Betweenness Centrality)\")\n",
    "print(top_five_betweenness_centrality[0:5])"
   ]
  },
  {
   "cell_type": "markdown",
   "metadata": {},
   "source": [
    "## The most important GoT character accoding to betweenness centrality:"
   ]
  },
  {
   "cell_type": "markdown",
   "metadata": {},
   "source": [
    "                                                   Stannis Baratheon"
   ]
  },
  {
   "cell_type": "markdown",
   "metadata": {},
   "source": [
    "## 5. Analyse The Network Using Page Rank"
   ]
  },
  {
   "cell_type": "markdown",
   "metadata": {},
   "source": [
    "PageRank was the initial way Google ranked web pages. It evaluates the inlinks and outlinks of webpages in the world wide web, which is, essentially, a directed network. PageRank works by counting the number and quality of links to a node to determine a rough estimate of how important the node is."
   ]
  },
  {
   "cell_type": "code",
   "execution_count": 83,
   "metadata": {},
   "outputs": [
    {
     "name": "stdout",
     "output_type": "stream",
     "text": [
      "\n",
      "\n",
      "TOP 5 characters in ALL BOOKS (acc. Page Rank)\n",
      "[('Jon-Snow', 0.17363512919514706), ('Tyrion-Lannister', 0.1558212241830548), ('Cersei-Lannister', 0.12229731632055638), ('Daenerys-Targaryen', 0.09390839025780304), ('Robb-Stark', 0.08027095246553692)]\n"
     ]
    }
   ],
   "source": [
    "# Calculating the page rank of book 1-5\n",
    "page_rank_book1 = nx.pagerank(books[0])\n",
    "page_rank_book2 = nx.pagerank(books[1])\n",
    "page_rank_book3 = nx.pagerank(books[2])\n",
    "page_rank_book4 = nx.pagerank(books[3])\n",
    "page_rank_book5 = nx.pagerank(books[4])\n",
    "# Sorting the dictionaries according to their page rank and storing the top 10\n",
    "sorted_page_rank_book1 = sorted(page_rank_book1.items(), key=lambda x:x[1], reverse = True)[0:10]\n",
    "sorted_page_rank_book2 = sorted(page_rank_book2.items(), key=lambda x:x[1], reverse = True)[0:10]\n",
    "sorted_page_rank_book3 = sorted(page_rank_book3.items(), key=lambda x:x[1], reverse = True)[0:10]\n",
    "sorted_page_rank_book4 = sorted(page_rank_book4.items(), key=lambda x:x[1], reverse = True)[0:10]\n",
    "sorted_page_rank_book5 = sorted(page_rank_book5.items(), key=lambda x:x[1], reverse = True)[0:10]\n",
    "\n",
    "#iterate thought the results (dictionaries) to make one aggregate list of all books\n",
    "top_characters_all_books3 = {}\n",
    "listoflists3 = [sorted_page_rank_book1,sorted_page_rank_book2,sorted_page_rank_book3,sorted_page_rank_book4,sorted_page_rank_book5]\n",
    "\n",
    "for book in listoflists3 :\n",
    "    for character,value in book :\n",
    "        if character in top_characters_all_books3 :\n",
    "            top_characters_all_books3[character] += value\n",
    "        else :\n",
    "            top_characters_all_books3[character] = value\n",
    "            \n",
    "top_five_page_rank = sorted(top_characters_all_books3.items(), key=lambda x:x[1], reverse = True)[0:10]\n",
    "print(\"\\n\")\n",
    "print(\"TOP 5 characters in ALL BOOKS (acc. Page Rank)\")\n",
    "print(top_five_page_rank[0:5])"
   ]
  },
  {
   "cell_type": "markdown",
   "metadata": {},
   "source": [
    "## The most important GoT character accoding to pagerank:"
   ]
  },
  {
   "cell_type": "markdown",
   "metadata": {},
   "source": [
    "                                                       Jon Snow"
   ]
  },
  {
   "cell_type": "markdown",
   "metadata": {},
   "source": [
    "**Dataset & project skeleton is provided by DataCamp.**\n",
    "\n",
    "**Author: Stanislav Lukashevich**\n",
    "\n",
    "Find the original dataset here: https://github.com/StanislavLukashevich/GoT_NetworkAnalysis"
   ]
  },
  {
   "cell_type": "code",
   "execution_count": null,
   "metadata": {},
   "outputs": [],
   "source": []
  }
 ],
 "metadata": {
  "kernelspec": {
   "display_name": "Python 3",
   "language": "python",
   "name": "python3"
  },
  "language_info": {
   "codemirror_mode": {
    "name": "ipython",
    "version": 3
   },
   "file_extension": ".py",
   "mimetype": "text/x-python",
   "name": "python",
   "nbconvert_exporter": "python",
   "pygments_lexer": "ipython3",
   "version": "3.7.4"
  }
 },
 "nbformat": 4,
 "nbformat_minor": 2
}
